{
 "cells": [
  {
   "cell_type": "code",
   "execution_count": 1,
   "metadata": {},
   "outputs": [
    {
     "name": "stdout",
     "output_type": "stream",
     "text": [
      "Collecting seleniumNote: you may need to restart the kernel to use updated packages.\n"
     ]
    },
    {
     "name": "stderr",
     "output_type": "stream",
     "text": [
      "\n",
      "[notice] A new release of pip is available: 23.2.1 -> 24.1.2\n",
      "[notice] To update, run: python.exe -m pip install --upgrade pip\n"
     ]
    },
    {
     "name": "stdout",
     "output_type": "stream",
     "text": [
      "\n",
      "  Obtaining dependency information for selenium from https://files.pythonhosted.org/packages/c9/33/b9da8be5b122b8c3c82c35f515ba0a84a9af3ba9629ae9fd5bbba820d592/selenium-4.23.1-py3-none-any.whl.metadata\n",
      "  Downloading selenium-4.23.1-py3-none-any.whl.metadata (7.1 kB)\n",
      "Requirement already satisfied: urllib3[socks]<3,>=1.26 in c:\\users\\dadaset\\appdata\\local\\programs\\python\\python311\\lib\\site-packages (from selenium) (2.0.4)\n",
      "Collecting trio~=0.17 (from selenium)\n",
      "  Obtaining dependency information for trio~=0.17 from https://files.pythonhosted.org/packages/77/34/461280cc615614a9e434c6e23373371a2436f71d045303cadabb1d775eba/trio-0.26.0-py3-none-any.whl.metadata\n",
      "  Downloading trio-0.26.0-py3-none-any.whl.metadata (8.8 kB)\n",
      "Collecting trio-websocket~=0.9 (from selenium)\n",
      "  Obtaining dependency information for trio-websocket~=0.9 from https://files.pythonhosted.org/packages/48/be/a9ae5f50cad5b6f85bd2574c2c923730098530096e170c1ce7452394d7aa/trio_websocket-0.11.1-py3-none-any.whl.metadata\n",
      "  Downloading trio_websocket-0.11.1-py3-none-any.whl.metadata (4.7 kB)\n",
      "Requirement already satisfied: certifi>=2021.10.8 in c:\\users\\dadaset\\appdata\\local\\programs\\python\\python311\\lib\\site-packages (from selenium) (2023.7.22)\n",
      "Requirement already satisfied: typing_extensions~=4.9 in c:\\users\\dadaset\\appdata\\roaming\\python\\python311\\site-packages (from selenium) (4.12.2)\n",
      "Collecting websocket-client~=1.8 (from selenium)\n",
      "  Obtaining dependency information for websocket-client~=1.8 from https://files.pythonhosted.org/packages/5a/84/44687a29792a70e111c5c477230a72c4b957d88d16141199bf9acb7537a3/websocket_client-1.8.0-py3-none-any.whl.metadata\n",
      "  Downloading websocket_client-1.8.0-py3-none-any.whl.metadata (8.0 kB)\n",
      "Collecting attrs>=23.2.0 (from trio~=0.17->selenium)\n",
      "  Obtaining dependency information for attrs>=23.2.0 from https://files.pythonhosted.org/packages/e0/44/827b2a91a5816512fcaf3cc4ebc465ccd5d598c45cefa6703fcf4a79018f/attrs-23.2.0-py3-none-any.whl.metadata\n",
      "  Downloading attrs-23.2.0-py3-none-any.whl.metadata (9.5 kB)\n",
      "Collecting sortedcontainers (from trio~=0.17->selenium)\n",
      "  Obtaining dependency information for sortedcontainers from https://files.pythonhosted.org/packages/32/46/9cb0e58b2deb7f82b84065f37f3bffeb12413f947f9388e4cac22c4621ce/sortedcontainers-2.4.0-py2.py3-none-any.whl.metadata\n",
      "  Downloading sortedcontainers-2.4.0-py2.py3-none-any.whl.metadata (10 kB)\n",
      "Requirement already satisfied: idna in c:\\users\\dadaset\\appdata\\local\\programs\\python\\python311\\lib\\site-packages (from trio~=0.17->selenium) (3.4)\n",
      "Collecting outcome (from trio~=0.17->selenium)\n",
      "  Obtaining dependency information for outcome from https://files.pythonhosted.org/packages/55/8b/5ab7257531a5d830fc8000c476e63c935488d74609b50f9384a643ec0a62/outcome-1.3.0.post0-py2.py3-none-any.whl.metadata\n",
      "  Downloading outcome-1.3.0.post0-py2.py3-none-any.whl.metadata (2.6 kB)\n",
      "Collecting sniffio>=1.3.0 (from trio~=0.17->selenium)\n",
      "  Obtaining dependency information for sniffio>=1.3.0 from https://files.pythonhosted.org/packages/e9/44/75a9c9421471a6c4805dbf2356f7c181a29c1879239abab1ea2cc8f38b40/sniffio-1.3.1-py3-none-any.whl.metadata\n",
      "  Using cached sniffio-1.3.1-py3-none-any.whl.metadata (3.9 kB)\n",
      "Collecting cffi>=1.14 (from trio~=0.17->selenium)\n",
      "  Obtaining dependency information for cffi>=1.14 from https://files.pythonhosted.org/packages/5a/c7/694814b3757878b29da39bc2f0cf9d20295f4c1e0a0bde7971708d5f23f8/cffi-1.16.0-cp311-cp311-win_amd64.whl.metadata\n",
      "  Downloading cffi-1.16.0-cp311-cp311-win_amd64.whl.metadata (1.5 kB)\n",
      "Collecting wsproto>=0.14 (from trio-websocket~=0.9->selenium)\n",
      "  Obtaining dependency information for wsproto>=0.14 from https://files.pythonhosted.org/packages/78/58/e860788190eba3bcce367f74d29c4675466ce8dddfba85f7827588416f01/wsproto-1.2.0-py3-none-any.whl.metadata\n",
      "  Downloading wsproto-1.2.0-py3-none-any.whl.metadata (5.6 kB)\n",
      "Collecting pysocks!=1.5.7,<2.0,>=1.5.6 (from urllib3[socks]<3,>=1.26->selenium)\n",
      "  Obtaining dependency information for pysocks!=1.5.7,<2.0,>=1.5.6 from https://files.pythonhosted.org/packages/8d/59/b4572118e098ac8e46e399a1dd0f2d85403ce8bbaad9ec79373ed6badaf9/PySocks-1.7.1-py3-none-any.whl.metadata\n",
      "  Downloading PySocks-1.7.1-py3-none-any.whl.metadata (13 kB)\n",
      "Collecting pycparser (from cffi>=1.14->trio~=0.17->selenium)\n",
      "  Obtaining dependency information for pycparser from https://files.pythonhosted.org/packages/13/a3/a812df4e2dd5696d1f351d58b8fe16a405b234ad2886a0dab9183fb78109/pycparser-2.22-py3-none-any.whl.metadata\n",
      "  Downloading pycparser-2.22-py3-none-any.whl.metadata (943 bytes)\n",
      "Collecting h11<1,>=0.9.0 (from wsproto>=0.14->trio-websocket~=0.9->selenium)\n",
      "  Obtaining dependency information for h11<1,>=0.9.0 from https://files.pythonhosted.org/packages/95/04/ff642e65ad6b90db43e668d70ffb6736436c7ce41fcc549f4e9472234127/h11-0.14.0-py3-none-any.whl.metadata\n",
      "  Using cached h11-0.14.0-py3-none-any.whl.metadata (8.2 kB)\n",
      "Downloading selenium-4.23.1-py3-none-any.whl (9.4 MB)\n",
      "   ---------------------------------------- 0.0/9.4 MB ? eta -:--:--\n",
      "   - -------------------------------------- 0.4/9.4 MB 11.2 MB/s eta 0:00:01\n",
      "   -- ------------------------------------- 0.6/9.4 MB 7.9 MB/s eta 0:00:02\n",
      "   --- ------------------------------------ 0.8/9.4 MB 6.6 MB/s eta 0:00:02\n",
      "   ----- ---------------------------------- 1.2/9.4 MB 6.3 MB/s eta 0:00:02\n",
      "   ----- ---------------------------------- 1.4/9.4 MB 6.3 MB/s eta 0:00:02\n",
      "   ------- -------------------------------- 1.7/9.4 MB 6.7 MB/s eta 0:00:02\n",
      "   -------- ------------------------------- 1.9/9.4 MB 6.4 MB/s eta 0:00:02\n",
      "   -------- ------------------------------- 2.1/9.4 MB 6.4 MB/s eta 0:00:02\n",
      "   ---------- ----------------------------- 2.5/9.4 MB 6.7 MB/s eta 0:00:02\n",
      "   ------------ --------------------------- 2.8/9.4 MB 6.5 MB/s eta 0:00:02\n",
      "   ------------- -------------------------- 3.2/9.4 MB 6.7 MB/s eta 0:00:01\n",
      "   -------------- ------------------------- 3.4/9.4 MB 6.8 MB/s eta 0:00:01\n",
      "   --------------- ------------------------ 3.6/9.4 MB 6.6 MB/s eta 0:00:01\n",
      "   ---------------- ----------------------- 3.9/9.4 MB 6.7 MB/s eta 0:00:01\n",
      "   ----------------- ---------------------- 4.2/9.4 MB 6.7 MB/s eta 0:00:01\n",
      "   ------------------- -------------------- 4.6/9.4 MB 6.8 MB/s eta 0:00:01\n",
      "   -------------------- ------------------- 4.9/9.4 MB 6.9 MB/s eta 0:00:01\n",
      "   ---------------------- ----------------- 5.3/9.4 MB 7.1 MB/s eta 0:00:01\n",
      "   ------------------------ --------------- 5.8/9.4 MB 7.1 MB/s eta 0:00:01\n",
      "   ------------------------- -------------- 6.0/9.4 MB 7.0 MB/s eta 0:00:01\n",
      "   -------------------------- ------------- 6.4/9.4 MB 7.1 MB/s eta 0:00:01\n",
      "   --------------------------- ------------ 6.6/9.4 MB 7.0 MB/s eta 0:00:01\n",
      "   ----------------------------- ---------- 7.0/9.4 MB 7.2 MB/s eta 0:00:01\n",
      "   ------------------------------- -------- 7.4/9.4 MB 7.3 MB/s eta 0:00:01\n",
      "   -------------------------------- ------- 7.7/9.4 MB 7.4 MB/s eta 0:00:01\n",
      "   -------------------------------- ------- 7.8/9.4 MB 7.3 MB/s eta 0:00:01\n",
      "   ----------------------------------- ---- 8.3/9.4 MB 7.3 MB/s eta 0:00:01\n",
      "   ------------------------------------ --- 8.6/9.4 MB 7.3 MB/s eta 0:00:01\n",
      "   ------------------------------------- -- 8.8/9.4 MB 7.2 MB/s eta 0:00:01\n",
      "   -------------------------------------- - 9.1/9.4 MB 7.2 MB/s eta 0:00:01\n",
      "   ---------------------------------------  9.4/9.4 MB 7.2 MB/s eta 0:00:01\n",
      "   ---------------------------------------  9.4/9.4 MB 7.2 MB/s eta 0:00:01\n",
      "   ---------------------------------------  9.4/9.4 MB 7.2 MB/s eta 0:00:01\n",
      "   ---------------------------------------  9.4/9.4 MB 7.2 MB/s eta 0:00:01\n",
      "   ---------------------------------------  9.4/9.4 MB 7.2 MB/s eta 0:00:01\n",
      "   ---------------------------------------- 9.4/9.4 MB 6.3 MB/s eta 0:00:00\n",
      "Downloading trio-0.26.0-py3-none-any.whl (475 kB)\n",
      "   ---------------------------------------- 0.0/475.7 kB ? eta -:--:--\n",
      "   --------- ------------------------------ 112.6/475.7 kB 6.8 MB/s eta 0:00:01\n",
      "   --------- ------------------------------ 112.6/475.7 kB 6.8 MB/s eta 0:00:01\n",
      "   --------- ------------------------------ 112.6/475.7 kB 6.8 MB/s eta 0:00:01\n",
      "   --------- ------------------------------ 112.6/475.7 kB 6.8 MB/s eta 0:00:01\n",
      "   --------- ------------------------------ 112.6/475.7 kB 6.8 MB/s eta 0:00:01\n",
      "   --------- ------------------------------ 112.6/475.7 kB 6.8 MB/s eta 0:00:01\n",
      "   --------- ------------------------------ 112.6/475.7 kB 6.8 MB/s eta 0:00:01\n",
      "   --------- ------------------------------ 112.6/475.7 kB 6.8 MB/s eta 0:00:01\n",
      "   --------- ------------------------------ 112.6/475.7 kB 6.8 MB/s eta 0:00:01\n",
      "   --------- ------------------------------ 112.6/475.7 kB 6.8 MB/s eta 0:00:01\n",
      "   --------- ------------------------------ 112.6/475.7 kB 6.8 MB/s eta 0:00:01\n",
      "   --------- ------------------------------ 112.6/475.7 kB 6.8 MB/s eta 0:00:01\n",
      "   --------- ------------------------------ 112.6/475.7 kB 6.8 MB/s eta 0:00:01\n",
      "   --------- ------------------------------ 112.6/475.7 kB 6.8 MB/s eta 0:00:01\n",
      "   --------- ------------------------------ 112.6/475.7 kB 6.8 MB/s eta 0:00:01\n",
      "   ----------------------------------- -- 440.3/475.7 kB 672.0 kB/s eta 0:00:01\n",
      "   ----------------------------------- -- 450.6/475.7 kB 671.2 kB/s eta 0:00:01\n",
      "   -------------------------------------  471.0/475.7 kB 655.5 kB/s eta 0:00:01\n",
      "   -------------------------------------  471.0/475.7 kB 655.5 kB/s eta 0:00:01\n",
      "   -------------------------------------- 475.7/475.7 kB 584.1 kB/s eta 0:00:00\n",
      "Downloading trio_websocket-0.11.1-py3-none-any.whl (17 kB)\n",
      "Downloading websocket_client-1.8.0-py3-none-any.whl (58 kB)\n",
      "   ---------------------------------------- 0.0/58.8 kB ? eta -:--:--\n",
      "   ---------------------------------- ----- 51.2/58.8 kB 2.7 MB/s eta 0:00:01\n",
      "   ---------------------------------- ----- 51.2/58.8 kB 2.7 MB/s eta 0:00:01\n",
      "   ---------------------------------- ----- 51.2/58.8 kB 2.7 MB/s eta 0:00:01\n",
      "   ---------------------------------- ----- 51.2/58.8 kB 2.7 MB/s eta 0:00:01\n",
      "   ---------------------------------- ----- 51.2/58.8 kB 2.7 MB/s eta 0:00:01\n",
      "   ---------------------------------- ----- 51.2/58.8 kB 2.7 MB/s eta 0:00:01\n",
      "   ---------------------------------- ----- 51.2/58.8 kB 2.7 MB/s eta 0:00:01\n",
      "   ---------------------------------------- 58.8/58.8 kB 155.7 kB/s eta 0:00:00\n",
      "Downloading attrs-23.2.0-py3-none-any.whl (60 kB)\n",
      "   ---------------------------------------- 0.0/60.8 kB ? eta -:--:--\n",
      "   --------------------------------- ------ 51.2/60.8 kB ? eta -:--:--\n",
      "   --------------------------------- ------ 51.2/60.8 kB ? eta -:--:--\n",
      "   --------------------------------- ------ 51.2/60.8 kB ? eta -:--:--\n",
      "   --------------------------------- ------ 51.2/60.8 kB ? eta -:--:--\n",
      "   --------------------------------- ------ 51.2/60.8 kB ? eta -:--:--\n",
      "   ---------------------------------------- 60.8/60.8 kB 214.9 kB/s eta 0:00:00\n",
      "Downloading cffi-1.16.0-cp311-cp311-win_amd64.whl (181 kB)\n",
      "   ---------------------------------------- 0.0/181.5 kB ? eta -:--:--\n",
      "   ------------------------------------- - 174.1/181.5 kB 10.2 MB/s eta 0:00:01\n",
      "   ------------------------------------- - 174.1/181.5 kB 10.2 MB/s eta 0:00:01\n",
      "   ------------------------------------- - 174.1/181.5 kB 10.2 MB/s eta 0:00:01\n",
      "   ---------------------------------------- 181.5/181.5 kB 1.4 MB/s eta 0:00:00\n",
      "Downloading PySocks-1.7.1-py3-none-any.whl (16 kB)\n",
      "Downloading sniffio-1.3.1-py3-none-any.whl (10 kB)\n",
      "Downloading wsproto-1.2.0-py3-none-any.whl (24 kB)\n",
      "Downloading outcome-1.3.0.post0-py2.py3-none-any.whl (10 kB)\n",
      "Downloading sortedcontainers-2.4.0-py2.py3-none-any.whl (29 kB)\n",
      "Downloading h11-0.14.0-py3-none-any.whl (58 kB)\n",
      "   ---------------------------------------- 0.0/58.3 kB ? eta -:--:--\n",
      "   ----------------------------------- ---- 51.2/58.3 kB ? eta -:--:--\n",
      "   ----------------------------------- ---- 51.2/58.3 kB ? eta -:--:--\n",
      "   ----------------------------------- ---- 51.2/58.3 kB ? eta -:--:--\n",
      "   ----------------------------------- ---- 51.2/58.3 kB ? eta -:--:--\n",
      "   ----------------------------------- ---- 51.2/58.3 kB ? eta -:--:--\n",
      "   ----------------------------------- ---- 51.2/58.3 kB ? eta -:--:--\n",
      "   ----------------------------------- ---- 51.2/58.3 kB ? eta -:--:--\n",
      "   ---------------------------------------- 58.3/58.3 kB 153.4 kB/s eta 0:00:00\n",
      "Downloading pycparser-2.22-py3-none-any.whl (117 kB)\n",
      "   ---------------------------------------- 0.0/117.6 kB ? eta -:--:--\n",
      "   -------------------------------------- - 112.6/117.6 kB ? eta -:--:--\n",
      "   -------------------------------------- - 112.6/117.6 kB ? eta -:--:--\n",
      "   -------------------------------------- - 112.6/117.6 kB ? eta -:--:--\n",
      "   -------------------------------------- - 112.6/117.6 kB ? eta -:--:--\n",
      "   -------------------------------------- - 112.6/117.6 kB ? eta -:--:--\n",
      "   -------------------------------------- 117.6/117.6 kB 490.0 kB/s eta 0:00:00\n",
      "Installing collected packages: sortedcontainers, websocket-client, sniffio, pysocks, pycparser, h11, attrs, wsproto, outcome, cffi, trio, trio-websocket, selenium\n",
      "Successfully installed attrs-23.2.0 cffi-1.16.0 h11-0.14.0 outcome-1.3.0.post0 pycparser-2.22 pysocks-1.7.1 selenium-4.23.1 sniffio-1.3.1 sortedcontainers-2.4.0 trio-0.26.0 trio-websocket-0.11.1 websocket-client-1.8.0 wsproto-1.2.0\n"
     ]
    }
   ],
   "source": [
    "pip install selenium"
   ]
  },
  {
   "cell_type": "code",
   "execution_count": 2,
   "metadata": {},
   "outputs": [],
   "source": [
    "import pandas as pd\n"
   ]
  },
  {
   "cell_type": "code",
   "execution_count": 7,
   "metadata": {},
   "outputs": [],
   "source": [
    "from selenium import webdriver\n",
    "from selenium.webdriver.common.by import By\n",
    "from selenium.webdriver.chrome.service import Service"
   ]
  },
  {
   "cell_type": "code",
   "execution_count": 70,
   "metadata": {},
   "outputs": [],
   "source": [
    "service = Service()\n",
    "options = webdriver.ChromeOptions()\n",
    "driver = webdriver.Chrome(service=service, options=options)\n"
   ]
  },
  {
   "cell_type": "code",
   "execution_count": 71,
   "metadata": {},
   "outputs": [],
   "source": [
    "url = 'https://books.toscrape.com/'\n",
    "driver.get(url)\n"
   ]
  },
  {
   "cell_type": "code",
   "execution_count": 57,
   "metadata": {},
   "outputs": [
    {
     "data": {
      "text/plain": [
       "'Soumission'"
      ]
     },
     "execution_count": 57,
     "metadata": {},
     "output_type": "execute_result"
    }
   ],
   "source": [
    "driver.find_elements(By.TAG_NAME, 'a')[58].get_attribute('title')\n",
    "#mostrando como ve os titulos por si, utilizamos o método get_attribute pra buscar um atributo específico "
   ]
  },
  {
   "cell_type": "code",
   "execution_count": 72,
   "metadata": {},
   "outputs": [],
   "source": [
    "titleElements = driver.find_elements(By.TAG_NAME, 'a')[54:94:2]\n",
    "# criado uma lista com os elementos de TAG a, já separados do 54 ao 94, de dois em dois,pois é esse formato que está na estrutura do html"
   ]
  },
  {
   "cell_type": "code",
   "execution_count": 59,
   "metadata": {},
   "outputs": [],
   "source": [
    "#vamos buscar em cada elemento da lista o atributo title e salvá-lo numa lista, metodo \"list comprehension\"\n",
    "titleList = [title.get_attribute('title') for title in titleElements]"
   ]
  },
  {
   "cell_type": "code",
   "execution_count": 60,
   "metadata": {},
   "outputs": [],
   "source": [
    "#clicando em um link\n",
    "titleElements[2].click()\n",
    "\n"
   ]
  },
  {
   "cell_type": "code",
   "execution_count": 64,
   "metadata": {},
   "outputs": [
    {
     "data": {
      "text/plain": [
       "20"
      ]
     },
     "execution_count": 64,
     "metadata": {},
     "output_type": "execute_result"
    }
   ],
   "source": [
    "#encontrando elemento com nome instock\n",
    "int(driver.find_element(By.CLASS_NAME, 'instock').text.replace('In stock (', '').replace(' available)', ''))"
   ]
  },
  {
   "cell_type": "code",
   "execution_count": null,
   "metadata": {},
   "outputs": [],
   "source": [
    "driver.back()"
   ]
  },
  {
   "cell_type": "code",
   "execution_count": 73,
   "metadata": {},
   "outputs": [],
   "source": [
    "titleElements = driver.find_elements(By.TAG_NAME, 'a')[54:94:2]\n",
    "\n",
    "stockList = []\n",
    "\n",
    "for title in titleElements:\n",
    "\n",
    "    title.click()\n",
    "\n",
    "    qtdStock = int(driver.find_element(By.CLASS_NAME, 'instock').text.replace('In stock (', '').replace(' available)', ''))\n",
    "\n",
    "    stockList.append(qtdStock)\n",
    "\n",
    "    driver.back()"
   ]
  },
  {
   "cell_type": "code",
   "execution_count": 75,
   "metadata": {},
   "outputs": [
    {
     "data": {
      "text/plain": [
       "[22,\n",
       " 20,\n",
       " 20,\n",
       " 20,\n",
       " 20,\n",
       " 19,\n",
       " 19,\n",
       " 19,\n",
       " 19,\n",
       " 19,\n",
       " 19,\n",
       " 19,\n",
       " 19,\n",
       " 19,\n",
       " 19,\n",
       " 19,\n",
       " 19,\n",
       " 19,\n",
       " 19,\n",
       " 19]"
      ]
     },
     "execution_count": 75,
     "metadata": {},
     "output_type": "execute_result"
    }
   ],
   "source": [
    "stockList"
   ]
  },
  {
   "cell_type": "code",
   "execution_count": 76,
   "metadata": {},
   "outputs": [
    {
     "data": {
      "text/html": [
       "<div>\n",
       "<style scoped>\n",
       "    .dataframe tbody tr th:only-of-type {\n",
       "        vertical-align: middle;\n",
       "    }\n",
       "\n",
       "    .dataframe tbody tr th {\n",
       "        vertical-align: top;\n",
       "    }\n",
       "\n",
       "    .dataframe thead th {\n",
       "        text-align: right;\n",
       "    }\n",
       "</style>\n",
       "<table border=\"1\" class=\"dataframe\">\n",
       "  <thead>\n",
       "    <tr style=\"text-align: right;\">\n",
       "      <th></th>\n",
       "      <th>title</th>\n",
       "      <th>stock</th>\n",
       "    </tr>\n",
       "  </thead>\n",
       "  <tbody>\n",
       "    <tr>\n",
       "      <th>0</th>\n",
       "      <td>A Light in the Attic</td>\n",
       "      <td>22</td>\n",
       "    </tr>\n",
       "    <tr>\n",
       "      <th>1</th>\n",
       "      <td>Tipping the Velvet</td>\n",
       "      <td>20</td>\n",
       "    </tr>\n",
       "    <tr>\n",
       "      <th>2</th>\n",
       "      <td>Soumission</td>\n",
       "      <td>20</td>\n",
       "    </tr>\n",
       "    <tr>\n",
       "      <th>3</th>\n",
       "      <td>Sharp Objects</td>\n",
       "      <td>20</td>\n",
       "    </tr>\n",
       "    <tr>\n",
       "      <th>4</th>\n",
       "      <td>Sapiens: A Brief History of Humankind</td>\n",
       "      <td>20</td>\n",
       "    </tr>\n",
       "    <tr>\n",
       "      <th>5</th>\n",
       "      <td>The Requiem Red</td>\n",
       "      <td>19</td>\n",
       "    </tr>\n",
       "    <tr>\n",
       "      <th>6</th>\n",
       "      <td>The Dirty Little Secrets of Getting Your Dream...</td>\n",
       "      <td>19</td>\n",
       "    </tr>\n",
       "    <tr>\n",
       "      <th>7</th>\n",
       "      <td>The Coming Woman: A Novel Based on the Life of...</td>\n",
       "      <td>19</td>\n",
       "    </tr>\n",
       "    <tr>\n",
       "      <th>8</th>\n",
       "      <td>The Boys in the Boat: Nine Americans and Their...</td>\n",
       "      <td>19</td>\n",
       "    </tr>\n",
       "    <tr>\n",
       "      <th>9</th>\n",
       "      <td>The Black Maria</td>\n",
       "      <td>19</td>\n",
       "    </tr>\n",
       "    <tr>\n",
       "      <th>10</th>\n",
       "      <td>Starving Hearts (Triangular Trade Trilogy, #1)</td>\n",
       "      <td>19</td>\n",
       "    </tr>\n",
       "    <tr>\n",
       "      <th>11</th>\n",
       "      <td>Shakespeare's Sonnets</td>\n",
       "      <td>19</td>\n",
       "    </tr>\n",
       "    <tr>\n",
       "      <th>12</th>\n",
       "      <td>Set Me Free</td>\n",
       "      <td>19</td>\n",
       "    </tr>\n",
       "    <tr>\n",
       "      <th>13</th>\n",
       "      <td>Scott Pilgrim's Precious Little Life (Scott Pi...</td>\n",
       "      <td>19</td>\n",
       "    </tr>\n",
       "    <tr>\n",
       "      <th>14</th>\n",
       "      <td>Rip it Up and Start Again</td>\n",
       "      <td>19</td>\n",
       "    </tr>\n",
       "    <tr>\n",
       "      <th>15</th>\n",
       "      <td>Our Band Could Be Your Life: Scenes from the A...</td>\n",
       "      <td>19</td>\n",
       "    </tr>\n",
       "    <tr>\n",
       "      <th>16</th>\n",
       "      <td>Olio</td>\n",
       "      <td>19</td>\n",
       "    </tr>\n",
       "    <tr>\n",
       "      <th>17</th>\n",
       "      <td>Mesaerion: The Best Science Fiction Stories 18...</td>\n",
       "      <td>19</td>\n",
       "    </tr>\n",
       "    <tr>\n",
       "      <th>18</th>\n",
       "      <td>Libertarianism for Beginners</td>\n",
       "      <td>19</td>\n",
       "    </tr>\n",
       "    <tr>\n",
       "      <th>19</th>\n",
       "      <td>It's Only the Himalayas</td>\n",
       "      <td>19</td>\n",
       "    </tr>\n",
       "  </tbody>\n",
       "</table>\n",
       "</div>"
      ],
      "text/plain": [
       "                                                title  stock\n",
       "0                                A Light in the Attic     22\n",
       "1                                  Tipping the Velvet     20\n",
       "2                                          Soumission     20\n",
       "3                                       Sharp Objects     20\n",
       "4               Sapiens: A Brief History of Humankind     20\n",
       "5                                     The Requiem Red     19\n",
       "6   The Dirty Little Secrets of Getting Your Dream...     19\n",
       "7   The Coming Woman: A Novel Based on the Life of...     19\n",
       "8   The Boys in the Boat: Nine Americans and Their...     19\n",
       "9                                     The Black Maria     19\n",
       "10     Starving Hearts (Triangular Trade Trilogy, #1)     19\n",
       "11                              Shakespeare's Sonnets     19\n",
       "12                                        Set Me Free     19\n",
       "13  Scott Pilgrim's Precious Little Life (Scott Pi...     19\n",
       "14                          Rip it Up and Start Again     19\n",
       "15  Our Band Could Be Your Life: Scenes from the A...     19\n",
       "16                                               Olio     19\n",
       "17  Mesaerion: The Best Science Fiction Stories 18...     19\n",
       "18                       Libertarianism for Beginners     19\n",
       "19                            It's Only the Himalayas     19"
      ]
     },
     "execution_count": 76,
     "metadata": {},
     "output_type": "execute_result"
    }
   ],
   "source": [
    "#Criar um dataframe com as duas listas\n",
    "\n",
    "dictDf = {'title': titleList,\n",
    "          'stock': stockList }\n",
    "pd.DataFrame(dictDf)"
   ]
  }
 ],
 "metadata": {
  "kernelspec": {
   "display_name": "Python 3",
   "language": "python",
   "name": "python3"
  },
  "language_info": {
   "codemirror_mode": {
    "name": "ipython",
    "version": 3
   },
   "file_extension": ".py",
   "mimetype": "text/x-python",
   "name": "python",
   "nbconvert_exporter": "python",
   "pygments_lexer": "ipython3",
   "version": "3.11.5"
  }
 },
 "nbformat": 4,
 "nbformat_minor": 2
}
